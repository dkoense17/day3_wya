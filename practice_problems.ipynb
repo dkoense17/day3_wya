{
 "cells": [
  {
   "cell_type": "code",
   "execution_count": 7,
   "id": "convinced-virtue",
   "metadata": {},
   "outputs": [
    {
     "name": "stdout",
     "output_type": "stream",
     "text": [
      "[1, 2, 3, 4, 5]\n",
      "[]\n"
     ]
    }
   ],
   "source": [
    "def identity(nums):\n",
    "    \"\"\"Identity:\n",
    "    Given a list of numbers, write a list comprehension that produces a copy of the list.\n",
    "        >>> identity([1, 2, 3, 4, 5])\n",
    "        [1, 2, 3, 4, 5]\n",
    "        >>> identity([])\n",
    "        []\n",
    "    \"\"\"\n",
    "    return [x for x in nums]\n",
    "\n",
    "print(identity([1, 2, 3, 4, 5]))\n",
    "print(identity([]))"
   ]
  },
  {
   "cell_type": "code",
   "execution_count": 24,
   "id": "systematic-recipient",
   "metadata": {},
   "outputs": [
    {
     "name": "stdout",
     "output_type": "stream",
     "text": [
      "[2, 4, 6, 8, 10]\n",
      "[-4, 4, -20, 20]\n"
     ]
    }
   ],
   "source": [
    "def doubled(nums):\n",
    "    \"\"\"Doubled:\n",
    "    Given a list of numbers, write a list comprehension that produces a list of each number doubled.\n",
    "        >>> doubled([1, 2, 3, 4, 5])\n",
    "        [2, 4, 6, 8, 10]\n",
    "        >>> doubled([-2, 2, -10, 10])\n",
    "        [-4, 4, -20, 20]\n",
    "    \"\"\"\n",
    "    return [x*2 for x in nums]\n",
    "\n",
    "print(doubled([1, 2, 3, 4, 5]))\n",
    "print(doubled([-2, 2, -10, 10]))"
   ]
  },
  {
   "cell_type": "code",
   "execution_count": 10,
   "id": "cross-carter",
   "metadata": {},
   "outputs": [
    {
     "name": "stdout",
     "output_type": "stream",
     "text": [
      "[1, 4, 9, 16, 25]\n",
      "[4, 4, 100, 100]\n"
     ]
    }
   ],
   "source": [
    "def squared(nums):\n",
    "    \"\"\"Squared:\n",
    "    Given a list of numbers, write a list comprehension that produces a list of the squares of each number.\n",
    "        >>> squared([1, 2, 3, 4, 5])\n",
    "        [1, 4, 9, 16, 25]\n",
    "        >>> squared([-2, 2, -10, 10])\n",
    "        [4, 4, 100, 100]\n",
    "    \"\"\"\n",
    "    return [x*x for x in nums]\n",
    "\n",
    "print(squared([1, 2, 3, 4, 5]))\n",
    "print(squared([-2, 2, -10, 10]))"
   ]
  },
  {
   "cell_type": "code",
   "execution_count": 11,
   "id": "stretch-leave",
   "metadata": {},
   "outputs": [
    {
     "name": "stdout",
     "output_type": "stream",
     "text": [
      "[2, 4]\n",
      "[]\n",
      "[-2, -4]\n"
     ]
    }
   ],
   "source": [
    "def evens(nums):\n",
    "    \"\"\"Evens:\n",
    "    Given a list of numbers, write a list comprehension that produces a list of only the even numbers in that list.\n",
    "        >>> evens([1, 2, 3, 4, 5])\n",
    "        [2, 4]\n",
    "        >>> evens([1, 3, 5])\n",
    "        []\n",
    "        >>> evens([-2, -4, -7])\n",
    "        [-2, -4]\n",
    "    \"\"\"\n",
    "    return [x for x in nums if x%2 == 0]\n",
    "\n",
    "print(evens([1, 2, 3, 4, 5]))\n",
    "print(evens([1, 3, 5]))\n",
    "print(evens([-2, -4, -7]))"
   ]
  },
  {
   "cell_type": "code",
   "execution_count": 12,
   "id": "tough-latitude",
   "metadata": {},
   "outputs": [
    {
     "name": "stdout",
     "output_type": "stream",
     "text": [
      "[1, 3, 5]\n",
      "[]\n",
      "[-7]\n"
     ]
    }
   ],
   "source": [
    "def odds(nums):\n",
    "    \"\"\"Odds:\n",
    "    Given a list of numbers, write a list comprehension that produces a list of only the odd numbers in that list.\n",
    "        >>> odds([1, 2, 3, 4, 5])\n",
    "        [1, 3, 5]\n",
    "        >>> odds([2, 4, 6])\n",
    "        []\n",
    "        >>> odds([-2, -4, -7])\n",
    "        [-7]\n",
    "    \"\"\"\n",
    "    return [x for x in nums if x%2 == 1]\n",
    "\n",
    "print(odds([1, 2, 3, 4, 5]))\n",
    "print(odds([2, 4, 6]))\n",
    "print(odds([-2, -4, -7]))"
   ]
  },
  {
   "cell_type": "code",
   "execution_count": 1,
   "id": "anonymous-steal",
   "metadata": {},
   "outputs": [
    {
     "name": "stdout",
     "output_type": "stream",
     "text": [
      "[1, 2]\n"
     ]
    }
   ],
   "source": [
    "def positives(nums):\n",
    "    \"\"\"Positives:\n",
    "    Given a list of numbers, write a list comprehension that produces a list of only the positive numbers in that list.\n",
    "        >>> positives([-2, -1, 0, 1, 2])\n",
    "        [1, 2]\n",
    "    \"\"\"\n",
    "    return [x for x in nums if x > 0]\n",
    "\n",
    "print(positives([-2, -1, 0, 1, 2]))"
   ]
  },
  {
   "cell_type": "code",
   "execution_count": 21,
   "id": "charged-timeline",
   "metadata": {},
   "outputs": [
    {
     "name": "stdout",
     "output_type": "stream",
     "text": [
      "['25', '-20']\n"
     ]
    }
   ],
   "source": [
    "def selective_stringify_nums(nums):\n",
    "    \"\"\"Selectively stringify nums:\n",
    "    Given a list of numbers, write a list comprehension that produces a list of strings of each number that is divisible by 5.\n",
    "        >>> selective_stringify_nums([25, 91, 22, -7, -20])\n",
    "        ['25', '-20']\n",
    "    \"\"\"\n",
    "    return [str(x) for x in nums if x%5 == 0]\n",
    "\n",
    "print(selective_stringify_nums([25, 91, 22, -7, -20]))"
   ]
  },
  {
   "cell_type": "code",
   "execution_count": 25,
   "id": "imperial-alcohol",
   "metadata": {},
   "outputs": [
    {
     "name": "stdout",
     "output_type": "stream",
     "text": [
      "['a', 'e', 'a', 'i']\n"
     ]
    }
   ],
   "source": [
    "def vowels(word):\n",
    "    \"\"\"Vowels:\n",
    "    Given a string representing a word, write a list comprehension that produces a list of all the vowels in that word.\n",
    "        >>> vowels('mathematics')\n",
    "        ['a', 'e', 'a', 'i']\n",
    "    \"\"\"\n",
    "    return [x for x in word if x == 'a' or x == 'e' or x == 'i' or x == 'o' or x == 'u']\n",
    "\n",
    "print(vowels('mathematics'))"
   ]
  },
  {
   "cell_type": "code",
   "execution_count": 12,
   "id": "formal-collapse",
   "metadata": {},
   "outputs": [
    {
     "name": "stderr",
     "output_type": "stream",
     "text": [
      "E"
     ]
    },
    {
     "name": "stdout",
     "output_type": "stream",
     "text": [
      "Passed all tests.\n"
     ]
    },
    {
     "name": "stderr",
     "output_type": "stream",
     "text": [
      "\n",
      "======================================================================\n",
      "ERROR: test_identity (__main__.test)\n",
      "----------------------------------------------------------------------\n",
      "Traceback (most recent call last):\n",
      "  File \"<ipython-input-12-f1e279b14db1>\", line 6, in test_identity\n",
      "    self.assertEqual(identity([1,2,3,4,5]), [1,2,3,4,5])\n",
      "NameError: name 'identity' is not defined\n",
      "\n",
      "----------------------------------------------------------------------\n",
      "Ran 1 test in 0.001s\n",
      "\n",
      "FAILED (errors=1)\n"
     ]
    }
   ],
   "source": [
    "import unittest\n",
    "\n",
    "class test(unittest.TestCase):\n",
    "    \n",
    "    def test_identity(self):\n",
    "        self.assertEqual(identity([1,2,3,4,5]), [1,2,3,4,5]) \n",
    "        \n",
    "if __name__ == \"__main__\":\n",
    "    unittest.main(argv=['first-arg-is-ignored'], exit=False)\n",
    "    print(\"Passed all tests.\")"
   ]
  }
 ],
 "metadata": {
  "kernelspec": {
   "display_name": "Python 3",
   "language": "python",
   "name": "python3"
  },
  "language_info": {
   "codemirror_mode": {
    "name": "ipython",
    "version": 3
   },
   "file_extension": ".py",
   "mimetype": "text/x-python",
   "name": "python",
   "nbconvert_exporter": "python",
   "pygments_lexer": "ipython3",
   "version": "3.9.1"
  }
 },
 "nbformat": 4,
 "nbformat_minor": 5
}
