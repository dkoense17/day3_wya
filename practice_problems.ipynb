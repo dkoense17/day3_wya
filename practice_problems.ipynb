{
 "cells": [
  {
   "cell_type": "code",
   "execution_count": 12,
   "id": "modular-concrete",
   "metadata": {},
   "outputs": [],
   "source": [
    "def identity(nums):\n",
    "    \"\"\"Identity:\n",
    "    Given a list of numbers, write a list comprehension that produces a copy of the list.\n",
    "        >>> identity([1, 2, 3, 4, 5])\n",
    "        [1, 2, 3, 4, 5]\n",
    "        >>> identity([])\n",
    "        []\n",
    "    \"\"\"\n",
    "    return [x for x in nums]"
   ]
  },
  {
   "cell_type": "code",
   "execution_count": 13,
   "id": "selected-houston",
   "metadata": {},
   "outputs": [],
   "source": [
    "def doubled(nums):\n",
    "    \"\"\"Doubled:\n",
    "    Given a list of numbers, write a list comprehension that produces a list of each number doubled.\n",
    "        >>> doubled([1, 2, 3, 4, 5])\n",
    "        [2, 4, 6, 8, 10]\n",
    "        >>> doubled([-2, 2, -10, 10])\n",
    "        [-4, 4, -20, 20]\n",
    "    \"\"\"\n",
    "    return [x*2 for x in nums]"
   ]
  },
  {
   "cell_type": "code",
   "execution_count": 14,
   "id": "whole-muslim",
   "metadata": {},
   "outputs": [],
   "source": [
    "def squared(nums):\n",
    "    \"\"\"Squared:\n",
    "    Given a list of numbers, write a list comprehension that produces a list of the squares of each number.\n",
    "        >>> squared([1, 2, 3, 4, 5])\n",
    "        [1, 4, 9, 16, 25]\n",
    "        >>> squared([-2, 2, -10, 10])\n",
    "        [4, 4, 100, 100]\n",
    "    \"\"\"\n",
    "    return [x*x for x in nums]"
   ]
  },
  {
   "cell_type": "code",
   "execution_count": 15,
   "id": "rental-supply",
   "metadata": {},
   "outputs": [],
   "source": [
    "def evens(nums):\n",
    "    \"\"\"Evens:\n",
    "    Given a list of numbers, write a list comprehension that produces a list of only the even numbers in that list.\n",
    "        >>> evens([1, 2, 3, 4, 5])\n",
    "        [2, 4]\n",
    "        >>> evens([1, 3, 5])\n",
    "        []\n",
    "        >>> evens([-2, -4, -7])\n",
    "        [-2, -4]\n",
    "    \"\"\"\n",
    "    return [x for x in nums if x%2 == 0]"
   ]
  },
  {
   "cell_type": "code",
   "execution_count": 16,
   "id": "gothic-pound",
   "metadata": {},
   "outputs": [],
   "source": [
    "def odds(nums):\n",
    "    \"\"\"Odds:\n",
    "    Given a list of numbers, write a list comprehension that produces a list of only the odd numbers in that list.\n",
    "        >>> odds([1, 2, 3, 4, 5])\n",
    "        [1, 3, 5]\n",
    "        >>> odds([2, 4, 6])\n",
    "        []\n",
    "        >>> odds([-2, -4, -7])\n",
    "        [-7]\n",
    "    \"\"\"\n",
    "    return [x for x in nums if x%2 == 1]"
   ]
  },
  {
   "cell_type": "code",
   "execution_count": 17,
   "id": "pointed-victim",
   "metadata": {},
   "outputs": [],
   "source": [
    "def positives(nums):\n",
    "    \"\"\"Positives:\n",
    "    Given a list of numbers, write a list comprehension that produces a list of only the positive numbers in that list.\n",
    "        >>> positives([-2, -1, 0, 1, 2])\n",
    "        [1, 2]\n",
    "    \"\"\"\n",
    "    return [x for x in nums if x > 0]"
   ]
  },
  {
   "cell_type": "code",
   "execution_count": 18,
   "id": "acoustic-style",
   "metadata": {},
   "outputs": [],
   "source": [
    "def selective_stringify_nums(nums):\n",
    "    \"\"\"Selectively stringify nums:\n",
    "    Given a list of numbers, write a list comprehension that produces a list of strings of each number that is divisible by 5.\n",
    "        >>> selective_stringify_nums([25, 91, 22, -7, -20])\n",
    "        ['25', '-20']\n",
    "    \"\"\"\n",
    "    return [str(x) for x in nums if x%5 == 0]"
   ]
  },
  {
   "cell_type": "code",
   "execution_count": 19,
   "id": "persistent-level",
   "metadata": {},
   "outputs": [],
   "source": [
    "def vowels(word):\n",
    "    \"\"\"Vowels:\n",
    "    Given a string representing a word, write a list comprehension that produces a list of all the vowels in that word.\n",
    "        >>> vowels('mathematics')\n",
    "        ['a', 'e', 'a', 'i']\n",
    "    \"\"\"\n",
    "    return [x for x in word if x == 'a' or x == 'e' or x == 'i' or x == 'o' or x == 'u']"
   ]
  },
  {
   "cell_type": "code",
   "execution_count": 29,
   "id": "romance-facing",
   "metadata": {},
   "outputs": [
    {
     "name": "stderr",
     "output_type": "stream",
     "text": [
      "........"
     ]
    },
    {
     "name": "stdout",
     "output_type": "stream",
     "text": [
      "Passed all tests.\n"
     ]
    },
    {
     "name": "stderr",
     "output_type": "stream",
     "text": [
      "\n",
      "----------------------------------------------------------------------\n",
      "Ran 8 tests in 0.003s\n",
      "\n",
      "OK\n"
     ]
    }
   ],
   "source": [
    "import unittest\n",
    "\n",
    "class test(unittest.TestCase):\n",
    "    \n",
    "    def test_identity(self):\n",
    "        self.assertEqual(identity([1,2,3,4,5]), [1,2,3,4,5]) \n",
    "        self.assertEqual(identity([]), []) \n",
    "        \n",
    "    def test_doubled(self):\n",
    "        self.assertEqual(doubled([1,2,3,4,5]), [2,4,6,8,10]) \n",
    "        self.assertEqual(doubled([-2,2,-10,10]), [-4,4,-20,20])\n",
    "        \n",
    "    def test_squared(self):\n",
    "        self.assertEqual(squared([1, 2, 3, 4, 5]), [1, 4, 9, 16, 25])\n",
    "        self.assertEqual(squared([-2, 2, -10, 10]), [4, 4, 100, 100])\n",
    "        \n",
    "    def test_evens(self):\n",
    "        self.assertEqual(evens([1, 2, 3, 4, 5]), [2, 4])\n",
    "        self.assertEqual(evens([1, 3, 5]), [])\n",
    "        self.assertEqual(evens([-2, -4, -7]), [-2, -4])\n",
    "        \n",
    "    def test_odds(self):\n",
    "        self.assertEqual(odds([1, 2, 3, 4, 5]), [1,3,5])\n",
    "        self.assertEqual(odds([2, 4, 6]), [])\n",
    "        self.assertEqual(odds([-2, -4, -7]), [-7])\n",
    "        \n",
    "    def test_positives(self):\n",
    "        self.assertEqual(positives([-2, -1, 0, 1, 2]), [1,2])\n",
    "        \n",
    "    def test_selective_stringify_nums(self):\n",
    "        self.assertEqual(selective_stringify_nums([25, 91, 22, -7, -20]), ['25', '-20'])\n",
    "        \n",
    "    def test_vowels(self):\n",
    "        self.assertEqual(vowels('mathematics'),['a', 'e', 'a', 'i'])\n",
    "        \n",
    "if __name__ == \"__main__\":\n",
    "    unittest.main(argv=['first-arg-is-ignored'], exit=False)\n",
    "    print(\"Passed all tests.\")"
   ]
  },
  {
   "cell_type": "code",
   "execution_count": null,
   "id": "pharmaceutical-evanescence",
   "metadata": {},
   "outputs": [],
   "source": []
  }
 ],
 "metadata": {
  "kernelspec": {
   "display_name": "Python 3",
   "language": "python",
   "name": "python3"
  },
  "language_info": {
   "codemirror_mode": {
    "name": "ipython",
    "version": 3
   },
   "file_extension": ".py",
   "mimetype": "text/x-python",
   "name": "python",
   "nbconvert_exporter": "python",
   "pygments_lexer": "ipython3",
   "version": "3.9.1"
  }
 },
 "nbformat": 4,
 "nbformat_minor": 5
}
